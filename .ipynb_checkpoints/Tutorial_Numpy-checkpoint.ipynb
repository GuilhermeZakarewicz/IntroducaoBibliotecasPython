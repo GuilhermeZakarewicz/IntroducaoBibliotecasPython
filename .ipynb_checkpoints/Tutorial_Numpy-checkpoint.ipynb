{
 "cells": [
  {
   "cell_type": "markdown",
   "id": "44d61a5d",
   "metadata": {},
   "source": [
    "<img src=\"https://neuraspike.com/wp-content/uploads/2020/11/thumbnail_numpy_tutorial_logo-neuraspike.png.png\" alt=\"image info\" />\n",
    "\n",
    "*****************\n",
    "\n",
    "<b> Susanne Tainá Ramalho Maciel </b>\n",
    "\n",
    "<b> Guilherme Zakarewicz de Aguiar </b>\n",
    "\n",
    "Universidade de Brasília (UnB)\n",
    "\n",
    "<font color='red'> Esta é uma tradução livre do código *numpy_ultraquick_tutorial*. Para acessar a versão original, verifique este [código](https://colab.research.google.com/github/google/eng-edu/blob/master/ml/cc/exercises/numpy_ultraquick_tutorial.ipynb#scrollTo=T4r2z30vJSbA). </font>\n",
    "\n",
    "\n",
    "******************"
   ]
  },
  {
   "cell_type": "markdown",
   "id": "220122c1",
   "metadata": {},
   "source": [
    "## Tutorial Rápido de NumPy\n",
    "\n",
    "[Numpy](https://numpy.org/doc/stable/index.html) é uma biblioteca de Python usada para a criação e manipulação de matrizes, o principal tipo de estrutura de dados usada por algoritmos de ML. [Matrizes](https://en.wikipedia.org/wiki/Matrix_(mathematics)) são objetos matemáticos usados para armazenar valores em linhas e colunas.\n",
    "\n",
    "O Python nomeia matrizes como *listas*, NumPy as chama de *arrays* e o TensorFlow as chama de *tensors*. Python representa as matrizes com os [tipos de dados de listas](https://docs.python.org/3/library/stdtypes.html#lists).\n",
    "\n",
    "Este Notebook não é um tutorial exaustivo em NumPy. Em vez disso, ensina o necessário para usar o NumPy em exercícios básicos de Machine Learning. \n"
   ]
  },
  {
   "cell_type": "markdown",
   "id": "e0dc3df0",
   "metadata": {},
   "source": [
    "## Importando o módulo NumPy \n",
    "\n",
    "Execute a seguinte célula para importar o módulo NumPy:"
   ]
  },
  {
   "cell_type": "code",
   "execution_count": 1,
   "id": "2a04ce60",
   "metadata": {},
   "outputs": [],
   "source": [
    "import numpy as np"
   ]
  },
  {
   "cell_type": "markdown",
   "id": "d3cd9185",
   "metadata": {},
   "source": [
    "## Criar *arrays* com números específicos\n",
    "\n",
    "Utilize `np.array` para criar um array com valores específicos. Por exemplo, a seguinte célula cria um array com 8 elementos:"
   ]
  },
  {
   "cell_type": "code",
   "execution_count": 2,
   "id": "07535a59",
   "metadata": {},
   "outputs": [
    {
     "name": "stdout",
     "output_type": "stream",
     "text": [
      "[1.2 2.4 3.5 4.7 6.1 7.2 8.3 9.5]\n"
     ]
    }
   ],
   "source": [
    "one_dimensional_array = np.array([1.2, 2.4, 3.5, 4.7, 6.1, 7.2, 8.3, 9.5])\n",
    "print(one_dimensional_array)"
   ]
  },
  {
   "cell_type": "markdown",
   "id": "64fc6f4c",
   "metadata": {},
   "source": [
    "Podemos também usar o `np.array` para criar arrays de duas dimensões. Por exemplo, vamos criar um array 3x2:"
   ]
  },
  {
   "cell_type": "code",
   "execution_count": 3,
   "id": "41fec36b",
   "metadata": {},
   "outputs": [
    {
     "name": "stdout",
     "output_type": "stream",
     "text": [
      "[[ 6  5]\n",
      " [11  7]\n",
      " [ 4  8]]\n"
     ]
    }
   ],
   "source": [
    "two_dimensional_array = np.array([[6, 5], [11, 7], [4, 8]])\n",
    "print(two_dimensional_array)"
   ]
  },
  {
   "cell_type": "markdown",
   "id": "4edc6af7",
   "metadata": {},
   "source": [
    "Para criar um array somente com zeros, utilize `np.zeros`. Para criar um array somente com 1's, utilize `np.ones`."
   ]
  },
  {
   "cell_type": "code",
   "execution_count": 4,
   "id": "9b70e3b6",
   "metadata": {},
   "outputs": [
    {
     "name": "stdout",
     "output_type": "stream",
     "text": [
      "[0. 0. 0. 0. 0. 0. 0. 0. 0. 0.]\n",
      "[[1. 1.]\n",
      " [1. 1.]\n",
      " [1. 1.]]\n"
     ]
    }
   ],
   "source": [
    "zeros = np.zeros([10])\n",
    "ones = np.ones([3,2])\n",
    "\n",
    "print(zeros)\n",
    "print(ones)"
   ]
  },
  {
   "cell_type": "markdown",
   "id": "c4960240",
   "metadata": {},
   "source": [
    "## Criar arrays com sequências de números\n",
    "\n",
    "Podemos criar arrays com sequências de números:"
   ]
  },
  {
   "cell_type": "code",
   "execution_count": 5,
   "id": "bc878ecf",
   "metadata": {},
   "outputs": [
    {
     "name": "stdout",
     "output_type": "stream",
     "text": [
      "[ 5  6  7  8  9 10 11]\n"
     ]
    }
   ],
   "source": [
    "sequence_of_integers = np.arange(5, 12)\n",
    "print(sequence_of_integers)"
   ]
  },
  {
   "cell_type": "markdown",
   "id": "c6eb27e8",
   "metadata": {},
   "source": [
    "Note que `np.arange` gera uma sequência que inclui o limite inferior (5), mas não inclui o limite superior (12)."
   ]
  },
  {
   "cell_type": "markdown",
   "id": "5b77de12",
   "metadata": {},
   "source": [
    "## Criar arrays com números aleatórios\n",
    "\n",
    "O NumPy possui várias funções para criar arrays com números aleatórios em diferentes intervalos. Por exemplo, `np.random.randint` gera números inteiros aleatórios entre um limite inferior e um superios. A célula a seguir cria um array com 6 elementos aleatórios entre o intervalo de 50 e 100:"
   ]
  },
  {
   "cell_type": "code",
   "execution_count": 6,
   "id": "0f509aed",
   "metadata": {},
   "outputs": [
    {
     "name": "stdout",
     "output_type": "stream",
     "text": [
      "[51 83 71 89 70 83]\n"
     ]
    }
   ],
   "source": [
    "random_integers_between_50_and_100 = np.random.randint(low=50, high=101, size=(6))\n",
    "print(random_integers_between_50_and_100)"
   ]
  },
  {
   "cell_type": "markdown",
   "id": "42d93ade",
   "metadata": {},
   "source": [
    "Note que o maior número inteiro gerado pela função `np.random.randint` será sempre menor que o argumento máximo (`high=101`. No caso, o maior número possível será `100`)."
   ]
  },
  {
   "cell_type": "markdown",
   "id": "580f4c59",
   "metadata": {},
   "source": [
    "Para criar números com decimais entre 0.0 e 1.0, utilizamos a função `np.random.random`. Por exemplo:"
   ]
  },
  {
   "cell_type": "code",
   "execution_count": 7,
   "id": "57b14038",
   "metadata": {},
   "outputs": [
    {
     "name": "stdout",
     "output_type": "stream",
     "text": [
      "[9.15133997e-01 8.80208196e-01 4.70767899e-01 3.52822791e-04\n",
      " 7.92618583e-01 5.43992141e-01]\n"
     ]
    }
   ],
   "source": [
    "random_floats_between_0_and_1 = np.random.random([6])\n",
    "print(random_floats_between_0_and_1) "
   ]
  },
  {
   "cell_type": "markdown",
   "id": "7cbd5b8a",
   "metadata": {},
   "source": [
    "## Operações matemáticas com operadores NumPy\n",
    "\n",
    "Se você deseja adicionar ou subtrair dois arrays, a álgebra linear exige que os dois operadores possuam a mesma dimensão. Além disso, se você deseja multiplicar dois arrays, a álgebra linear impõe regras estritas sobre a compatibilidade dimensional dos operadores. \n",
    "\n",
    "Por sorte, o NumPy usa um truque chamado [**broadcasting**](https://developers.google.com/machine-learning/glossary/#broadcasting) para virtualmente expandir o menor operador para dimensões compatíveis para a álgebra linear. Por exemplo, a seguinte operação usa o *broadcasting* para adicionar 2.0 para o valor de cada item no array criado anteriormente:"
   ]
  },
  {
   "cell_type": "code",
   "execution_count": 8,
   "id": "503247f6",
   "metadata": {},
   "outputs": [
    {
     "name": "stdout",
     "output_type": "stream",
     "text": [
      "[2.915134   2.8802082  2.4707679  2.00035282 2.79261858 2.54399214]\n"
     ]
    }
   ],
   "source": [
    "random_floats_between_2_and_3 = random_floats_between_0_and_1 + 2.0\n",
    "print(random_floats_between_2_and_3)"
   ]
  },
  {
   "cell_type": "markdown",
   "id": "57002482",
   "metadata": {},
   "source": [
    "A seguinte operação também utiliza o *broadcasting* para multiplicar cada item no array por 3.0:"
   ]
  },
  {
   "cell_type": "code",
   "execution_count": 9,
   "id": "ad2e6554",
   "metadata": {},
   "outputs": [
    {
     "name": "stdout",
     "output_type": "stream",
     "text": [
      "[153. 249. 213. 267. 210. 249.]\n"
     ]
    }
   ],
   "source": [
    "random_integers_between_150_and_300 = random_integers_between_50_and_100 * 3.0\n",
    "print(random_integers_between_150_and_300)"
   ]
  },
  {
   "cell_type": "markdown",
   "id": "35dabe35",
   "metadata": {},
   "source": [
    "## Tarefa 1: Criar um Dataset Linear\n",
    "\n",
    "O nosso objetivo é criar um dataset simples com duas variáveis diferentes:\n",
    "\n",
    "1. Crie uma sequência de valores inteiros de 6 a 20 (cuidado! queremos 20, e não 19) em um array chamado `feature`.\n",
    "2. Crie um array com 15 valores chamado `label` em que:\n",
    "\n",
    "\n",
    "```\n",
    "   label = (3)(feature) + 4\n",
    "```\n",
    "\n",
    "Por exemplo, o primeiro item de `label` deve ser:\n",
    "\n",
    "\n",
    "```\n",
    "  label = (3)(6) + 4 = 22\n",
    " ```"
   ]
  },
  {
   "cell_type": "code",
   "execution_count": null,
   "id": "98db6827",
   "metadata": {},
   "outputs": [],
   "source": [
    "feature = # escreva seu código aqui\n",
    "print(feature)\n",
    "label = # escreva seu código aqui\n",
    "print(label)"
   ]
  },
  {
   "cell_type": "markdown",
   "id": "b297ccee",
   "metadata": {},
   "source": [
    "## Tarefa 2: Adicionar ruído ao dataset\n",
    "\n",
    "Para tornar nosso dataset um pouco mais realista, vamos inserir um pouco de ruído em cada elemento do array `label`. Mais precisamente, modifique cada valor de `label` adicionando um valor diferente de ruído aleatório entre -2 e 2. \n",
    "\n",
    "*Dica: crie um array `noise` com a mesma dimensão de `label`*"
   ]
  },
  {
   "cell_type": "code",
   "execution_count": null,
   "id": "f815978a",
   "metadata": {},
   "outputs": [],
   "source": [
    "noise = # escreva seu código aqui\n",
    "print(noise)\n",
    "label = # escreva seu código aqui\n",
    "print(label)"
   ]
  },
  {
   "cell_type": "markdown",
   "id": "693a7ad6",
   "metadata": {},
   "source": [
    "*************************************\n",
    "\n",
    "<br>\n",
    "\n",
    "<br>\n",
    "\n",
    "<br>\n",
    "\n",
    "<br>\n",
    "\n",
    "<br>\n",
    "\n",
    "<br>\n",
    "\n",
    "<br>\n",
    "\n",
    "<br>\n",
    "\n",
    "\n",
    "\n",
    "# Soluções:"
   ]
  },
  {
   "cell_type": "code",
   "execution_count": 14,
   "id": "e562c813",
   "metadata": {},
   "outputs": [
    {
     "name": "stdout",
     "output_type": "stream",
     "text": [
      "[ 6  7  8  9 10 11 12 13 14 15 16 17 18 19 20]\n",
      "[22 25 28 31 34 37 40 43 46 49 52 55 58 61 64]\n"
     ]
    }
   ],
   "source": [
    "feature = np.arange(6, 21)\n",
    "print(feature)\n",
    "label = (feature * 3) + 4\n",
    "print(label)"
   ]
  },
  {
   "cell_type": "code",
   "execution_count": 15,
   "id": "0b467cc3",
   "metadata": {},
   "outputs": [
    {
     "name": "stdout",
     "output_type": "stream",
     "text": [
      "[ 1.84045197 -0.35359525 -1.17126938 -1.08835929  0.84747546 -0.18762989\n",
      "  0.59569238 -0.53388658  0.62158627 -1.27807214  1.88401054  0.09325103\n",
      "  1.32063747 -1.57844882  0.89911911]\n",
      "[23.84045197 24.64640475 26.82873062 29.91164071 34.84747546 36.81237011\n",
      " 40.59569238 42.46611342 46.62158627 47.72192786 53.88401054 55.09325103\n",
      " 59.32063747 59.42155118 64.89911911]\n"
     ]
    }
   ],
   "source": [
    "noise = (np.random.random([15]) * 4) - 2\n",
    "print(noise)\n",
    "label = label + noise \n",
    "print(label)"
   ]
  },
  {
   "cell_type": "code",
   "execution_count": null,
   "id": "fc9d1e3d",
   "metadata": {},
   "outputs": [],
   "source": []
  }
 ],
 "metadata": {
  "kernelspec": {
   "display_name": "Python 3",
   "language": "python",
   "name": "python3"
  },
  "language_info": {
   "codemirror_mode": {
    "name": "ipython",
    "version": 3
   },
   "file_extension": ".py",
   "mimetype": "text/x-python",
   "name": "python",
   "nbconvert_exporter": "python",
   "pygments_lexer": "ipython3",
   "version": "3.8.8"
  }
 },
 "nbformat": 4,
 "nbformat_minor": 5
}
