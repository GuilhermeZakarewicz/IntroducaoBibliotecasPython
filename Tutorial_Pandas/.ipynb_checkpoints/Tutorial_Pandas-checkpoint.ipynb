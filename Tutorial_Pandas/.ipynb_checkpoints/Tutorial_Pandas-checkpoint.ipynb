{
 "cells": [
  {
   "cell_type": "markdown",
   "id": "c4a7f7e1",
   "metadata": {},
   "source": [
    "<img src=\"data:image/png;base64,iVBORw0KGgoAAAANSUhEUgAAAWEAAACPCAMAAAAcGJqjAAAAzFBMVEX///8TB1QAAEgAAE4RA1MAAEexrsMAAEsAAFO8usv19PcAAE0HAFD/ygDnBIjV0+BjX4cQAFNqZY0AAEGSjqsAAETu7fIeFlhIQXfNy9l8eJoIAFXl4+xuapGhnrXmAIG4tsT/4o3/2F3/3XUzLWTrO573t9j+9vr2rNNua4opIGLd3OVUUHiZlq9bVoLBv8+npLqGg6EcElotJWNHQXMAADhBOnNMSHN5d5P/6qo5NGgwKmN3cpf/11ZWUICrqrr/5pmYk7H84vD1p9Hq8WsjAAALXklEQVR4nO2ce3vquBHGsWQjsNSCcWzCJTTd0m0PBAiXTc4mNGdP+/2/U33RyLZkwiVR8jSd96/YnljSz/JoNJJpNFAoFAqFQqFQKBQKhUKhUCgUCoVCoVAoFAqFQn01xUqfXZMvKn/UGuVi7c+uy9eU3wqkPCRsRX7LdXIRJGxFSNi2kPBbNbgFDWqvI+G3ahmRXGG39joSfqu6VAKkvdrrSPitQsK2hYRtCwnbFhK2LSRsW0jYtpCwbX1pwvE3qfUnVuJLEx5TTlOxh0+sxNcmPAqyqovrT6wEErYtJGxbSNi2kLBtIeF31qB7IyUT7jrhQQ8Mbvz0GAmfqWZIpcL8hE64DQacIuFL1CQOAMtPGITBwG0h4UtkEF6GsE63zI6RsCn/HGODcDyWu9LG+b609yLsDyY3y7vlftJ5xWh+v+/eLXuLwaltGCy6y7vu8HZefzlerXt3yfUf8vphwoNFVrsfr9Uut+vd7Z4e724mp9bRIKzrUsId3k+1mWZH833AGKWCcsZmiwN1u58ywqkQlBHRzfcSDIPsLrSZW1yJ7DDIEzfx0Elumthzwnermip0aX6/5PpskhZ6gHC8dkleO8JG63F2bpaV1Ce+YSdSUcaC7kldzB7hKNvcJty0Zr2QB1COGxB2X1cQJQJu7QQ0XKYt/cbzLXJAmGWH/Ht6MIlKNxXSqRUav4RUXXcESZ9SPeGriJVqx6P0+fmByIoKS4QnXmGX1dEThzpLSfYIe3k1RPJmbbhTURDdGPbDKKga0VZbjbtEEc4vfUue2qPnVuxZFfFK0Or90kLrCMfXXtXQIdNxIxa5ZYnwMHI1QycIh59O2OWNFRd6zRzyqJn3iGETePeNR1FHWCwb8Zbr9qTc2jYJ9OsOWc5dg3DNjRy6mY+pqxG+Ug/CdRVqUuOcPpqwWOWvViASR1d0Aq3HlQEHSfCd/YsbNXf1hHeNrdZDM/NiH9igBDgrOTvkz31HI+yXbuQqQzFrC43wIJJ3S5w6Z4Tw1CAQ4/MJ//5X0O/vQdhxNkmdXUpmy273iReOzLsqGU8ihYOz52V3+cy4mza579YRDh726R8uZZFHCmdMX+B+cas4SZzHbnfXIumzgrMF4aXqwQETT93u48ZLkQuwVIRf8ichRsNBZ94Z3O53SWPE81HAJuF//Qn0y/sQTuoakH0e28yvRtBlXFJEWGPVIEGHndTS76yZSN9Hp45wYpeyYzeTeae9bqleGEGPKrhFy3YWdY4nU/jfMuGmerR8tsj+O14t0/4PjQTCcSgbU9R6ftUPT1iNMgj/8t6Ek/aI4vWNr6GhdKdO7gEI3ZYaMCveX4Nw6hN68kOS+AEMIUaBNzpz5SB/X6oREB7Bo/W6xZDWLLkYINzO/5lNym30F8fd8EcQDlqVb2pU/wohuh9DEWJbDn78ZzVCmoQDXmI3k0TATUjv7bisQmCtqgSE76FkVokJOkXUAIR/kBPaXCv7hF1S3YisePC9PAPcAlodN+YqnjUIu3AmE4AKRvn/cXAui2qdXqCzA+En+SjErmp4r56FRpgej8502SfM9UrBHYOZrH1fgiQTzVIBNQhXbzqWA7/LszsupJUxDkEIBoTn8DpF+qwb3gJFGDjxusnSq7JO2OVGzgCGdJK7iXEoiW/0CZIP/tQgHFVNn4NyWXei+l+FbmiF8ES2jRqb0dvQP4BwR1bFZbszHYV1wkKfWxR9TA4bqnvsDcserSesvxcvkilLn1k8At7G/QakQhiAe8aAFYMrU9GaGhMFCXenp6Y+gDC7Mi4N5CWaI13zg/e7Z/WE9d4JSW2Wuvyx7G5Uz1Qkl6pzOnDDxOQFd1SEF6W5tWBR6+aEMCKT9Xi4Zl4pY0t4OZdUdjkzcwjPQiesfywJ4V42qK7kP3Hz2QLTnLAv+2WwNQ3hsSvC/nNlFhnQaHqaSzYI//E30B/ZcTuSn4AKcRnhmk+a4F3NHci1kE/QnIFCdzxGeFgmDE1iC+N+kOfICcdygBQvpuGEaYQb85aWXhFkeiyb3GickJdY9adS23cjDBmup+yOrxD2yTsTlu+LRtgcKhq3RCecTIGYllwToTGWmjpK2Gj0271EQ95CPGVHMkp1hblQEV/Sh9uHRwAYEqteom5NqWkSbvhDwquM3eg4YvuEb81r0g/LvqOGKfOdm19CGJw3r0ka7CqEN9IPz0zDn4aXyOozZB4PSpRPSK5ZJ1zTTogt5Wr21eFYonmJlwDnLcxYIu5Xei3MKzwzlujpsQQ0v72fcVIsnnBzLeFAG6wR1iekjSIGk6+xiofNGakidw7hODgYD3eq8fC3g/GwP9Xj4ZLGt70NJIdcdiwyrllrBtX/BsrZczpquNcphKH5IDiHOd3WqCxkNc8iDAGDYVXEYJIwTH2o0RFhalJLOFF878pCovrPvwvV7EiRP4Hyxn1rh/MSUPvAkc9wpHE0K3ce4TXkJfTXB4Y2IAxd2vH03qT25RwgnHRk6cSP/o5JDWEZ//Kc8K9/V/pHVsuzs5dEG8FgJqXmXNCzAqfaHAXkTMIdiKoOmanoAfKjujdVCebDhKHWlxCWx7IP//qXP4MuJCz6lR4yVNmbgW7KK2OTX6xUnEdYPcNgVPFQxYIGEC6Sd5W0XrHmUqxxGGGZdDHRsVnHBxB26KxoqL8v0u3q5FItUiyLLhO/FAsaZxJuQtnCLY1hi2K1FQjH0NvdcvA82BSzNyC8+u1FGw5lpWtyGlV9BGFHiLXsxqutwhaWVoaVLZ9BX2mOSnmAMwk3+oAoIFByZ0lctfym5hhrlXUhj7Iz+tkKoU74ilPyVO7HzXzyUTcf/GjCaYAe8HDWWyxuWp6qPCvnKlVDncCjvcVk0eVZOCQ2lxGeq90qLo+uryaL4SbKlpAl4mIWt1UVElFrOJmsr0OeLdNrhB9Enre8H8S+78ftrmyed3RSZ51wsM3nQOmWtdIuJ76rvF3TosMGiSHPFyOin/X7JY4SbkzKbxBnLF/y53dydlMQnhcuNyk5MRT5Xz+Dyn4J2AIkmBeSEQ0JpPKfjgG2T5jum/p+qbSt22p8FM+oYeNG68alhEurnqVCp/EPphFurGo2BwVeU9vzMyDly8X2Oj1O+hTCN8kYruX9AvKkjw/xlOiJq2iRDCeXEm6sQ6PQ5LWRKbNyrmfgUaPktlr6k4Q7ouZBOCI8YUXpIwg35k+k1NyAt2ryisk8oZy4Et40pfWNuqkKwtmhaxLOz5dTpattGUrARBotrLzMjpazaeNluXaJt32ap3svg8xSxcOTmf4kAjI7Np87kbDSxYSTYh49QtP9ooJ7o2F9Pmreo2BDvF2+gLDnrVRqdytp5cc6YZafrySj/UU/4qn/TPxr5OTbggdeZker3zWvdhHLHG1qucvLGonMsphx+Ksu9Zj0x67gUf+Era2NEwj/+z//BOUFXUQ43dY0vN6MZi/r9uHffI3ve7PRaPPw/R6egS835PvVw1jPeNX/nKy/+v4w8simtKn+wO/Odq5eHBby/s1k/oph3F68jFgYhSG/Xl+8B/69vqfTCX8hzc/6XWAkbFtI2LaQsG0hYds6SjgeKGXHSPhMHf/q9jcvV+RdtF8CCdv6rhkJS5nfNUcsV5TvKjMIcw4f8yPhU2QQbk9AOUCDsPq9ie6rs3IkLHX293SnCglLIWHbskdY7oo9vu3oi8se4dEs08b8duD/S9YIN3zQO9Tyf1n2CKNyIWHbQsK2hYRtCwnbFhK2LSRsW0jYtpCwbSFh20LCtnWUcBPW6bya7/pQx3WUcLyqrjWjztTZ34SizhQSti0kbFtNT34CGnifXZUvqiaTnzGP2GdX5YtK7R43toWjUCgUCoVCoVAoFAqFQqFQKBQKhUKhUCgUCoVCfQ39FyE/BbXAt3OKAAAAAElFTkSuQmCC\" alt=\"image info\" />\n",
    "\n",
    "*****************\n",
    "\n",
    "<b> Susanne Tainá Ramalho Maciel </b>\n",
    "\n",
    "<b> Guilherme Zakarewicz de Aguiar </b>\n",
    "\n",
    "<b> George Sand </b>\n",
    "\n",
    "Universidade de Brasília (UnB)\n",
    "\n",
    "******************\n",
    "\n",
    "<img src=\"https://s4.static.brasilescola.uol.com.br/img/2019/09/panda.jpg\" alt=\"image info\" />"
   ]
  },
  {
   "cell_type": "markdown",
   "id": "f30bf691",
   "metadata": {},
   "source": [
    "**[Pandas](https://pandas.pydata.org/)** é uma biblioteca utilizada para a análise e manipulação de dados. Possui aplicações na ciência/análise de dados e tarefas de Machine Learning (ML). \n",
    "\n",
    "Esta biblioteca permite trabalhar com uma variedade de tipos de dados:\n",
    "\n",
    "* Dados tabulares, como uma planilha Excel/csv ou uma tabela SQL;\n",
    "* Matrizes;\n",
    "* Dados ordenados de modo temporal ou não\n",
    "\n",
    "Permite realizar tarefas repetitivas e demoradas de forma rápida e prática:\n",
    "\n",
    "* Limpeza/normalização/preenchimento de dados;\n",
    "* União de tabelas;\n",
    "* Análises estatísticas;\n",
    "* Carregar e salvar dados externos"
   ]
  },
  {
   "cell_type": "markdown",
   "id": "d5ceaf48",
   "metadata": {},
   "source": [
    "********\n",
    "\n",
    "### Estruturas de Dados\n",
    "\n",
    "A biblioteca Pandas possui dois principais objetos: **Series** e **DataFrames**. \n",
    "\n",
    "### Series\n",
    "Series são matrizes unidimensionais com uma indexação (números inteiros - 0,1... ou rótulos - \"verde\",\"laranja\"). É semelhante com uma única coluna de Excel. \n",
    "\n",
    "### DataFrame\n",
    "DataFrame é uma estrutura de dados tabular 2D, em que tanto linhas como colunas são tabuladas. É semelhante com uma planilha inteira do Excel.\n",
    "\n",
    "<img src=\"https://www.phylos.net/wp-content/uploads/2021/02/SerieDF.jpg\" alt=\"image info\" />"
   ]
  },
  {
   "cell_type": "markdown",
   "id": "edee3667",
   "metadata": {},
   "source": [
    "Importando a biblioteca"
   ]
  },
  {
   "cell_type": "code",
   "execution_count": 1,
   "id": "f2cae462",
   "metadata": {},
   "outputs": [],
   "source": [
    "import pandas as pd"
   ]
  },
  {
   "cell_type": "markdown",
   "id": "05158f33",
   "metadata": {},
   "source": [
    "***************\n",
    "\n",
    "Vamos começar criando uma Série"
   ]
  },
  {
   "cell_type": "code",
   "execution_count": 2,
   "id": "d9338830",
   "metadata": {},
   "outputs": [
    {
     "data": {
      "text/plain": [
       "0    8.99\n",
       "1    7.35\n",
       "2    2.15\n",
       "3    5.01\n",
       "4    9.98\n",
       "dtype: float64"
      ]
     },
     "execution_count": 2,
     "metadata": {},
     "output_type": "execute_result"
    }
   ],
   "source": [
    "notasFinais = [8.99,7.35,2.15,5.01,9.98]\n",
    "series_1 = pd.Series(notasFinais)\n",
    "\n",
    "series_1"
   ]
  },
  {
   "cell_type": "markdown",
   "id": "6626c223",
   "metadata": {},
   "source": [
    "**********\n",
    "\n",
    "Os valores da série podem ser acessados por meios dos índices, semelhante às listas/tuplas convencionais:"
   ]
  },
  {
   "cell_type": "code",
   "execution_count": 3,
   "id": "d03faf51",
   "metadata": {},
   "outputs": [
    {
     "name": "stdout",
     "output_type": "stream",
     "text": [
      "7.35\n"
     ]
    }
   ],
   "source": [
    "print(series_1[1])"
   ]
  },
  {
   "cell_type": "code",
   "execution_count": 4,
   "id": "07944c12",
   "metadata": {},
   "outputs": [
    {
     "name": "stdout",
     "output_type": "stream",
     "text": [
      "0    8.99\n",
      "1    7.35\n",
      "2    2.15\n",
      "3    5.01\n",
      "dtype: float64\n"
     ]
    }
   ],
   "source": [
    "print(series_1[0:4])"
   ]
  },
  {
   "cell_type": "code",
   "execution_count": 5,
   "id": "d54bc052",
   "metadata": {},
   "outputs": [
    {
     "name": "stdout",
     "output_type": "stream",
     "text": [
      "0    8.99\n",
      "1    7.35\n",
      "dtype: float64\n"
     ]
    }
   ],
   "source": [
    "print(series_1[:2])"
   ]
  },
  {
   "cell_type": "markdown",
   "id": "5bf532ce",
   "metadata": {},
   "source": [
    "********\n",
    "\n",
    "Também podemos inserir manualmente os índices do Series com a opção **index=**"
   ]
  },
  {
   "cell_type": "code",
   "execution_count": 6,
   "id": "d8eb44e3",
   "metadata": {},
   "outputs": [
    {
     "data": {
      "text/plain": [
       "George Sand    10.00\n",
       "Marcos          7.35\n",
       "Giuliano        2.15\n",
       "Marina          5.01\n",
       "Daniel          9.98\n",
       "dtype: float64"
      ]
     },
     "execution_count": 6,
     "metadata": {},
     "output_type": "execute_result"
    }
   ],
   "source": [
    "notasFinais = [10.0,7.35,2.15,5.01,9.98]\n",
    "alunosDisciplina = [\"George Sand\", \"Marcos\", \"Giuliano\", \"Marina\", \"Daniel\"]\n",
    "series_2 = pd.Series(notasFinais, index=alunosDisciplina)\n",
    "\n",
    "series_2"
   ]
  },
  {
   "cell_type": "code",
   "execution_count": 7,
   "id": "4d79b702",
   "metadata": {},
   "outputs": [
    {
     "name": "stdout",
     "output_type": "stream",
     "text": [
      "7.35\n",
      "A nota do aluno Marcos é 7.35\n"
     ]
    }
   ],
   "source": [
    "print(series_2[\"Marcos\"])\n",
    "\n",
    "notaMarcos = series_2[\"Marcos\"]\n",
    "\n",
    "print(f\"A nota do aluno Marcos é {notaMarcos}\")"
   ]
  },
  {
   "cell_type": "markdown",
   "id": "94731e9a",
   "metadata": {},
   "source": [
    "Mostrando os dados em ordem crescente ou decrescente usando a função **sort_values**:"
   ]
  },
  {
   "cell_type": "code",
   "execution_count": 8,
   "id": "1f0c5221",
   "metadata": {
    "scrolled": true
   },
   "outputs": [
    {
     "data": {
      "text/plain": [
       "Giuliano        2.15\n",
       "Marina          5.01\n",
       "Marcos          7.35\n",
       "Daniel          9.98\n",
       "George Sand    10.00\n",
       "dtype: float64"
      ]
     },
     "execution_count": 8,
     "metadata": {},
     "output_type": "execute_result"
    }
   ],
   "source": [
    "series_2.sort_values(ascending = True)"
   ]
  },
  {
   "cell_type": "code",
   "execution_count": 9,
   "id": "5302db12",
   "metadata": {},
   "outputs": [
    {
     "data": {
      "text/plain": [
       "George Sand    10.00\n",
       "Daniel          9.98\n",
       "Marcos          7.35\n",
       "Marina          5.01\n",
       "Giuliano        2.15\n",
       "dtype: float64"
      ]
     },
     "execution_count": 9,
     "metadata": {},
     "output_type": "execute_result"
    }
   ],
   "source": [
    "series_2.sort_values(ascending = False)"
   ]
  },
  {
   "cell_type": "markdown",
   "id": "dc7d91a4",
   "metadata": {},
   "source": [
    "*********\n",
    "\n",
    "Podemos filtrar uma série de acordo com um valor:"
   ]
  },
  {
   "cell_type": "code",
   "execution_count": 10,
   "id": "86e07fae",
   "metadata": {},
   "outputs": [
    {
     "data": {
      "text/plain": [
       "George Sand     True\n",
       "Marcos          True\n",
       "Giuliano       False\n",
       "Marina          True\n",
       "Daniel          True\n",
       "dtype: bool"
      ]
     },
     "execution_count": 10,
     "metadata": {},
     "output_type": "execute_result"
    }
   ],
   "source": [
    "series_2 >= 5"
   ]
  },
  {
   "cell_type": "code",
   "execution_count": 11,
   "id": "00ee2aa4",
   "metadata": {},
   "outputs": [
    {
     "name": "stdout",
     "output_type": "stream",
     "text": [
      "Alunos aprovados na disciplina:\n",
      "George Sand    10.00\n",
      "Marcos          7.35\n",
      "Marina          5.01\n",
      "Daniel          9.98\n",
      "dtype: float64\n",
      "\n",
      "Alunos reprovados na disciplina:\n",
      "Giuliano    2.15\n",
      "dtype: float64\n"
     ]
    }
   ],
   "source": [
    "alunosAprovados = series_2[series_2 >= 5]\n",
    "alunosReprovados = series_2[series_2 < 5]\n",
    "\n",
    "print(\"Alunos aprovados na disciplina:\")\n",
    "print(alunosAprovados)\n",
    "\n",
    "print(\"\\nAlunos reprovados na disciplina:\")\n",
    "print(alunosReprovados)"
   ]
  },
  {
   "cell_type": "code",
   "execution_count": 17,
   "id": "d92f18fc",
   "metadata": {},
   "outputs": [
    {
     "data": {
      "text/plain": [
       "Aluno\n",
       "George Sand    10.00\n",
       "Marcos          7.35\n",
       "Marina          5.01\n",
       "Daniel          9.98\n",
       "dtype: float64"
      ]
     },
     "execution_count": 17,
     "metadata": {},
     "output_type": "execute_result"
    }
   ],
   "source": [
    "alunosAprovados.index.names = \"Aluno\"\n",
    "alunosAprovados"
   ]
  },
  {
   "cell_type": "markdown",
   "id": "e6a0f0f9",
   "metadata": {},
   "source": [
    "É possível exportar a Série ou DataFrame que criamos"
   ]
  },
  {
   "cell_type": "code",
   "execution_count": 19,
   "id": "7a0e9fe6",
   "metadata": {},
   "outputs": [],
   "source": [
    "alunosAprovados.to_csv(\"lista_aprovados.csv\",sep=\",\",header=True)"
   ]
  },
  {
   "cell_type": "markdown",
   "id": "9b2a161e",
   "metadata": {},
   "source": [
    "********\n",
    "\n",
    "Uma das principais funções utilizadas do pandas é a importação de dados (pd.read_csv)."
   ]
  },
  {
   "cell_type": "code",
   "execution_count": 13,
   "id": "2db233ed",
   "metadata": {},
   "outputs": [],
   "source": [
    "df = pd.read_csv(\"notas.csv\")"
   ]
  },
  {
   "cell_type": "markdown",
   "id": "0140344c",
   "metadata": {},
   "source": [
    "Podemos visualizar o começo ou o fim de um DataFrame para ter uma noção inicial dos dados"
   ]
  },
  {
   "cell_type": "code",
   "execution_count": 14,
   "id": "2ed727d8",
   "metadata": {},
   "outputs": [
    {
     "data": {
      "text/html": [
       "<div>\n",
       "<style scoped>\n",
       "    .dataframe tbody tr th:only-of-type {\n",
       "        vertical-align: middle;\n",
       "    }\n",
       "\n",
       "    .dataframe tbody tr th {\n",
       "        vertical-align: top;\n",
       "    }\n",
       "\n",
       "    .dataframe thead th {\n",
       "        text-align: right;\n",
       "    }\n",
       "</style>\n",
       "<table border=\"1\" class=\"dataframe\">\n",
       "  <thead>\n",
       "    <tr style=\"text-align: right;\">\n",
       "      <th></th>\n",
       "      <th>Aluno</th>\n",
       "      <th>Nota</th>\n",
       "      <th>Turma</th>\n",
       "    </tr>\n",
       "  </thead>\n",
       "  <tbody>\n",
       "    <tr>\n",
       "      <th>0</th>\n",
       "      <td>Marcelo</td>\n",
       "      <td>7.22</td>\n",
       "      <td>2022-1</td>\n",
       "    </tr>\n",
       "    <tr>\n",
       "      <th>1</th>\n",
       "      <td>Marcos</td>\n",
       "      <td>8.99</td>\n",
       "      <td>2022-2</td>\n",
       "    </tr>\n",
       "    <tr>\n",
       "      <th>2</th>\n",
       "      <td>Marina</td>\n",
       "      <td>5.01</td>\n",
       "      <td>2022-2</td>\n",
       "    </tr>\n",
       "    <tr>\n",
       "      <th>3</th>\n",
       "      <td>Sergio</td>\n",
       "      <td>7.22</td>\n",
       "      <td>2019-2</td>\n",
       "    </tr>\n",
       "    <tr>\n",
       "      <th>4</th>\n",
       "      <td>Adriano</td>\n",
       "      <td>8.56</td>\n",
       "      <td>2019-2</td>\n",
       "    </tr>\n",
       "  </tbody>\n",
       "</table>\n",
       "</div>"
      ],
      "text/plain": [
       "     Aluno  Nota   Turma\n",
       "0  Marcelo  7.22  2022-1\n",
       "1   Marcos  8.99  2022-2\n",
       "2   Marina  5.01  2022-2\n",
       "3   Sergio  7.22  2019-2\n",
       "4  Adriano  8.56  2019-2"
      ]
     },
     "execution_count": 14,
     "metadata": {},
     "output_type": "execute_result"
    }
   ],
   "source": [
    "df.head()"
   ]
  },
  {
   "cell_type": "code",
   "execution_count": 15,
   "id": "fd340d7b",
   "metadata": {},
   "outputs": [
    {
     "data": {
      "text/html": [
       "<div>\n",
       "<style scoped>\n",
       "    .dataframe tbody tr th:only-of-type {\n",
       "        vertical-align: middle;\n",
       "    }\n",
       "\n",
       "    .dataframe tbody tr th {\n",
       "        vertical-align: top;\n",
       "    }\n",
       "\n",
       "    .dataframe thead th {\n",
       "        text-align: right;\n",
       "    }\n",
       "</style>\n",
       "<table border=\"1\" class=\"dataframe\">\n",
       "  <thead>\n",
       "    <tr style=\"text-align: right;\">\n",
       "      <th></th>\n",
       "      <th>Aluno</th>\n",
       "      <th>Nota</th>\n",
       "      <th>Turma</th>\n",
       "    </tr>\n",
       "  </thead>\n",
       "  <tbody>\n",
       "    <tr>\n",
       "      <th>3</th>\n",
       "      <td>Sergio</td>\n",
       "      <td>7.22</td>\n",
       "      <td>2019-2</td>\n",
       "    </tr>\n",
       "    <tr>\n",
       "      <th>4</th>\n",
       "      <td>Adriano</td>\n",
       "      <td>8.56</td>\n",
       "      <td>2019-2</td>\n",
       "    </tr>\n",
       "    <tr>\n",
       "      <th>5</th>\n",
       "      <td>Lucas</td>\n",
       "      <td>4.77</td>\n",
       "      <td>2018-1</td>\n",
       "    </tr>\n",
       "  </tbody>\n",
       "</table>\n",
       "</div>"
      ],
      "text/plain": [
       "     Aluno  Nota   Turma\n",
       "3   Sergio  7.22  2019-2\n",
       "4  Adriano  8.56  2019-2\n",
       "5    Lucas  4.77  2018-1"
      ]
     },
     "execution_count": 15,
     "metadata": {},
     "output_type": "execute_result"
    }
   ],
   "source": [
    "df.tail(3)"
   ]
  },
  {
   "cell_type": "markdown",
   "id": "5958ecc2",
   "metadata": {},
   "source": [
    "*******\n",
    "\n",
    "Criando uma nova coluna no DataFrame original:"
   ]
  },
  {
   "cell_type": "code",
   "execution_count": 16,
   "id": "3854aff6",
   "metadata": {},
   "outputs": [
    {
     "data": {
      "text/html": [
       "<div>\n",
       "<style scoped>\n",
       "    .dataframe tbody tr th:only-of-type {\n",
       "        vertical-align: middle;\n",
       "    }\n",
       "\n",
       "    .dataframe tbody tr th {\n",
       "        vertical-align: top;\n",
       "    }\n",
       "\n",
       "    .dataframe thead th {\n",
       "        text-align: right;\n",
       "    }\n",
       "</style>\n",
       "<table border=\"1\" class=\"dataframe\">\n",
       "  <thead>\n",
       "    <tr style=\"text-align: right;\">\n",
       "      <th></th>\n",
       "      <th>Aluno</th>\n",
       "      <th>Nota</th>\n",
       "      <th>Turma</th>\n",
       "      <th>Resultado</th>\n",
       "    </tr>\n",
       "  </thead>\n",
       "  <tbody>\n",
       "    <tr>\n",
       "      <th>0</th>\n",
       "      <td>Marcelo</td>\n",
       "      <td>7.22</td>\n",
       "      <td>2022-1</td>\n",
       "      <td>Aprovado</td>\n",
       "    </tr>\n",
       "    <tr>\n",
       "      <th>1</th>\n",
       "      <td>Marcos</td>\n",
       "      <td>8.99</td>\n",
       "      <td>2022-2</td>\n",
       "      <td>Aprovado</td>\n",
       "    </tr>\n",
       "    <tr>\n",
       "      <th>2</th>\n",
       "      <td>Marina</td>\n",
       "      <td>5.01</td>\n",
       "      <td>2022-2</td>\n",
       "      <td>Aprovado</td>\n",
       "    </tr>\n",
       "    <tr>\n",
       "      <th>3</th>\n",
       "      <td>Sergio</td>\n",
       "      <td>7.22</td>\n",
       "      <td>2019-2</td>\n",
       "      <td>Aprovado</td>\n",
       "    </tr>\n",
       "    <tr>\n",
       "      <th>4</th>\n",
       "      <td>Adriano</td>\n",
       "      <td>8.56</td>\n",
       "      <td>2019-2</td>\n",
       "      <td>Aprovado</td>\n",
       "    </tr>\n",
       "  </tbody>\n",
       "</table>\n",
       "</div>"
      ],
      "text/plain": [
       "     Aluno  Nota   Turma Resultado\n",
       "0  Marcelo  7.22  2022-1  Aprovado\n",
       "1   Marcos  8.99  2022-2  Aprovado\n",
       "2   Marina  5.01  2022-2  Aprovado\n",
       "3   Sergio  7.22  2019-2  Aprovado\n",
       "4  Adriano  8.56  2019-2  Aprovado"
      ]
     },
     "execution_count": 16,
     "metadata": {},
     "output_type": "execute_result"
    }
   ],
   "source": [
    "res = [\"Aprovado\",\"Aprovado\",\"Aprovado\",\"Aprovado\",\"Aprovado\",\"Reprovado\"]\n",
    "\n",
    "df[\"Resultado\"] = res\n",
    "\n",
    "df.head()"
   ]
  },
  {
   "cell_type": "code",
   "execution_count": 17,
   "id": "6e7a0469",
   "metadata": {
    "scrolled": true
   },
   "outputs": [
    {
     "data": {
      "text/html": [
       "<div>\n",
       "<style scoped>\n",
       "    .dataframe tbody tr th:only-of-type {\n",
       "        vertical-align: middle;\n",
       "    }\n",
       "\n",
       "    .dataframe tbody tr th {\n",
       "        vertical-align: top;\n",
       "    }\n",
       "\n",
       "    .dataframe thead th {\n",
       "        text-align: right;\n",
       "    }\n",
       "</style>\n",
       "<table border=\"1\" class=\"dataframe\">\n",
       "  <thead>\n",
       "    <tr style=\"text-align: right;\">\n",
       "      <th></th>\n",
       "      <th>Aluno</th>\n",
       "      <th>Nota</th>\n",
       "      <th>Turma</th>\n",
       "      <th>Resultado</th>\n",
       "      <th>Menção</th>\n",
       "    </tr>\n",
       "  </thead>\n",
       "  <tbody>\n",
       "    <tr>\n",
       "      <th>0</th>\n",
       "      <td>Marcelo</td>\n",
       "      <td>7.22</td>\n",
       "      <td>2022-1</td>\n",
       "      <td>Aprovado</td>\n",
       "      <td>MS</td>\n",
       "    </tr>\n",
       "    <tr>\n",
       "      <th>1</th>\n",
       "      <td>Marcos</td>\n",
       "      <td>8.99</td>\n",
       "      <td>2022-2</td>\n",
       "      <td>Aprovado</td>\n",
       "      <td>MS</td>\n",
       "    </tr>\n",
       "    <tr>\n",
       "      <th>2</th>\n",
       "      <td>Marina</td>\n",
       "      <td>5.01</td>\n",
       "      <td>2022-2</td>\n",
       "      <td>Aprovado</td>\n",
       "      <td>MM</td>\n",
       "    </tr>\n",
       "    <tr>\n",
       "      <th>3</th>\n",
       "      <td>Sergio</td>\n",
       "      <td>7.22</td>\n",
       "      <td>2019-2</td>\n",
       "      <td>Aprovado</td>\n",
       "      <td>MS</td>\n",
       "    </tr>\n",
       "    <tr>\n",
       "      <th>4</th>\n",
       "      <td>Adriano</td>\n",
       "      <td>8.56</td>\n",
       "      <td>2019-2</td>\n",
       "      <td>Aprovado</td>\n",
       "      <td>MS</td>\n",
       "    </tr>\n",
       "  </tbody>\n",
       "</table>\n",
       "</div>"
      ],
      "text/plain": [
       "     Aluno  Nota   Turma Resultado Menção\n",
       "0  Marcelo  7.22  2022-1  Aprovado     MS\n",
       "1   Marcos  8.99  2022-2  Aprovado     MS\n",
       "2   Marina  5.01  2022-2  Aprovado     MM\n",
       "3   Sergio  7.22  2019-2  Aprovado     MS\n",
       "4  Adriano  8.56  2019-2  Aprovado     MS"
      ]
     },
     "execution_count": 17,
     "metadata": {},
     "output_type": "execute_result"
    }
   ],
   "source": [
    "df[\"Menção\"] = \"\"\n",
    "\n",
    "for i,z in enumerate(df[\"Nota\"]):    \n",
    "    if z < 5:\n",
    "        df.at[i,\"Menção\"] = \"MI\"\n",
    "    elif z >= 5 and z < 7:\n",
    "        df.at[i,\"Menção\"] = \"MM\"\n",
    "    elif z >= 7 and z < 9:\n",
    "        df.at[i,\"Menção\"] = \"MS\"\n",
    "    elif z >= 9:\n",
    "        df.at[i,\"Menção\"] = \"SS\"\n",
    "        \n",
    "df.head()"
   ]
  },
  {
   "cell_type": "markdown",
   "id": "a2e9ab5c",
   "metadata": {},
   "source": [
    "******\n",
    "\n",
    "Vamos importar um catálogo de sismos para trabalhar com as funções do pandas:"
   ]
  },
  {
   "cell_type": "code",
   "execution_count": 18,
   "id": "ee81988a",
   "metadata": {},
   "outputs": [],
   "source": [
    "#\"sep=\" é o separador das célular; por default, é determinado como \",\". \n",
    "# Caso seu documento não seja separado por vírgulas, não esqueça de especificar ao chamar a função!\n",
    "\n",
    "df = pd.read_csv(\"fdsnws-event_2020-09-26T17_44_54Z.txt\",sep=\"|\")"
   ]
  },
  {
   "cell_type": "code",
   "execution_count": 19,
   "id": "a92d8e05",
   "metadata": {},
   "outputs": [
    {
     "name": "stdout",
     "output_type": "stream",
     "text": [
      "<class 'pandas.core.frame.DataFrame'>\n",
      "RangeIndex: 5222 entries, 0 to 5221\n",
      "Data columns (total 13 columns):\n",
      " #   Column          Non-Null Count  Dtype  \n",
      "---  ------          --------------  -----  \n",
      " 0   ID              5222 non-null   int64  \n",
      " 1   Data            5222 non-null   object \n",
      " 2   Lat             5220 non-null   float64\n",
      " 3   Long            5219 non-null   float64\n",
      " 4   Depth           5195 non-null   float64\n",
      " 5   Rede            5222 non-null   object \n",
      " 6   NP              5222 non-null   object \n",
      " 7   Local_analysis  5168 non-null   object \n",
      " 8   Local_ID        5222 non-null   object \n",
      " 9   TipoMagnitude   5168 non-null   object \n",
      " 10  MagnitudeValue  5222 non-null   float64\n",
      " 11  No              5222 non-null   object \n",
      " 12  Local           5222 non-null   object \n",
      "dtypes: float64(4), int64(1), object(8)\n",
      "memory usage: 530.5+ KB\n"
     ]
    }
   ],
   "source": [
    "#Informações sobre o dado que acabamos de importar\n",
    "\n",
    "df.info()"
   ]
  },
  {
   "cell_type": "markdown",
   "id": "6e5a0899",
   "metadata": {},
   "source": [
    "Estatísticas das colunas numéricas"
   ]
  },
  {
   "cell_type": "code",
   "execution_count": 20,
   "id": "6f071b29",
   "metadata": {},
   "outputs": [
    {
     "data": {
      "text/html": [
       "<div>\n",
       "<style scoped>\n",
       "    .dataframe tbody tr th:only-of-type {\n",
       "        vertical-align: middle;\n",
       "    }\n",
       "\n",
       "    .dataframe tbody tr th {\n",
       "        vertical-align: top;\n",
       "    }\n",
       "\n",
       "    .dataframe thead th {\n",
       "        text-align: right;\n",
       "    }\n",
       "</style>\n",
       "<table border=\"1\" class=\"dataframe\">\n",
       "  <thead>\n",
       "    <tr style=\"text-align: right;\">\n",
       "      <th></th>\n",
       "      <th>ID</th>\n",
       "      <th>Lat</th>\n",
       "      <th>Long</th>\n",
       "      <th>Depth</th>\n",
       "      <th>MagnitudeValue</th>\n",
       "    </tr>\n",
       "  </thead>\n",
       "  <tbody>\n",
       "    <tr>\n",
       "      <th>count</th>\n",
       "      <td>5.222000e+03</td>\n",
       "      <td>5220.000000</td>\n",
       "      <td>5219.000000</td>\n",
       "      <td>5195.000000</td>\n",
       "      <td>5222.000000</td>\n",
       "    </tr>\n",
       "    <tr>\n",
       "      <th>mean</th>\n",
       "      <td>3.602108e+06</td>\n",
       "      <td>-3.424915</td>\n",
       "      <td>-21.726787</td>\n",
       "      <td>10.681906</td>\n",
       "      <td>4.503868</td>\n",
       "    </tr>\n",
       "    <tr>\n",
       "      <th>std</th>\n",
       "      <td>3.356155e+06</td>\n",
       "      <td>9.763482</td>\n",
       "      <td>10.189075</td>\n",
       "      <td>9.079532</td>\n",
       "      <td>0.662967</td>\n",
       "    </tr>\n",
       "    <tr>\n",
       "      <th>min</th>\n",
       "      <td>7.682000e+03</td>\n",
       "      <td>-29.976200</td>\n",
       "      <td>-42.200000</td>\n",
       "      <td>-1.860000</td>\n",
       "      <td>0.000000</td>\n",
       "    </tr>\n",
       "    <tr>\n",
       "      <th>25%</th>\n",
       "      <td>7.881062e+05</td>\n",
       "      <td>-7.719450</td>\n",
       "      <td>-31.451450</td>\n",
       "      <td>10.000000</td>\n",
       "      <td>4.100000</td>\n",
       "    </tr>\n",
       "    <tr>\n",
       "      <th>50%</th>\n",
       "      <td>2.867389e+06</td>\n",
       "      <td>-0.723300</td>\n",
       "      <td>-16.736000</td>\n",
       "      <td>10.000000</td>\n",
       "      <td>4.600000</td>\n",
       "    </tr>\n",
       "    <tr>\n",
       "      <th>75%</th>\n",
       "      <td>4.815217e+06</td>\n",
       "      <td>3.278100</td>\n",
       "      <td>-13.256750</td>\n",
       "      <td>10.000000</td>\n",
       "      <td>4.900000</td>\n",
       "    </tr>\n",
       "    <tr>\n",
       "      <th>max</th>\n",
       "      <td>1.131595e+07</td>\n",
       "      <td>12.150000</td>\n",
       "      <td>4.593800</td>\n",
       "      <td>163.000000</td>\n",
       "      <td>7.100000</td>\n",
       "    </tr>\n",
       "  </tbody>\n",
       "</table>\n",
       "</div>"
      ],
      "text/plain": [
       "                 ID          Lat         Long        Depth  MagnitudeValue\n",
       "count  5.222000e+03  5220.000000  5219.000000  5195.000000     5222.000000\n",
       "mean   3.602108e+06    -3.424915   -21.726787    10.681906        4.503868\n",
       "std    3.356155e+06     9.763482    10.189075     9.079532        0.662967\n",
       "min    7.682000e+03   -29.976200   -42.200000    -1.860000        0.000000\n",
       "25%    7.881062e+05    -7.719450   -31.451450    10.000000        4.100000\n",
       "50%    2.867389e+06    -0.723300   -16.736000    10.000000        4.600000\n",
       "75%    4.815217e+06     3.278100   -13.256750    10.000000        4.900000\n",
       "max    1.131595e+07    12.150000     4.593800   163.000000        7.100000"
      ]
     },
     "execution_count": 20,
     "metadata": {},
     "output_type": "execute_result"
    }
   ],
   "source": [
    "df.describe()"
   ]
  },
  {
   "cell_type": "markdown",
   "id": "c162ee31",
   "metadata": {},
   "source": [
    "Início / fim do dado"
   ]
  },
  {
   "cell_type": "code",
   "execution_count": 21,
   "id": "15c7f512",
   "metadata": {
    "scrolled": true
   },
   "outputs": [
    {
     "data": {
      "text/html": [
       "<div>\n",
       "<style scoped>\n",
       "    .dataframe tbody tr th:only-of-type {\n",
       "        vertical-align: middle;\n",
       "    }\n",
       "\n",
       "    .dataframe tbody tr th {\n",
       "        vertical-align: top;\n",
       "    }\n",
       "\n",
       "    .dataframe thead th {\n",
       "        text-align: right;\n",
       "    }\n",
       "</style>\n",
       "<table border=\"1\" class=\"dataframe\">\n",
       "  <thead>\n",
       "    <tr style=\"text-align: right;\">\n",
       "      <th></th>\n",
       "      <th>ID</th>\n",
       "      <th>Data</th>\n",
       "      <th>Lat</th>\n",
       "      <th>Long</th>\n",
       "      <th>Depth</th>\n",
       "      <th>Rede</th>\n",
       "      <th>NP</th>\n",
       "      <th>Local_analysis</th>\n",
       "      <th>Local_ID</th>\n",
       "      <th>TipoMagnitude</th>\n",
       "      <th>MagnitudeValue</th>\n",
       "      <th>No</th>\n",
       "      <th>Local</th>\n",
       "    </tr>\n",
       "  </thead>\n",
       "  <tbody>\n",
       "    <tr>\n",
       "      <th>0</th>\n",
       "      <td>11315954</td>\n",
       "      <td>2020-09-19T20:58:16Z</td>\n",
       "      <td>-0.0807</td>\n",
       "      <td>-18.0865</td>\n",
       "      <td>10.0</td>\n",
       "      <td>us</td>\n",
       "      <td>NEIC PDE</td>\n",
       "      <td>us</td>\n",
       "      <td>us6000c0ig</td>\n",
       "      <td>mb</td>\n",
       "      <td>4.6</td>\n",
       "      <td>us</td>\n",
       "      <td>CENTRAL MID-ATLANTIC RIDGE</td>\n",
       "    </tr>\n",
       "    <tr>\n",
       "      <th>1</th>\n",
       "      <td>11312466</td>\n",
       "      <td>2020-09-18T21:43:58Z</td>\n",
       "      <td>0.9167</td>\n",
       "      <td>-26.8408</td>\n",
       "      <td>10.0</td>\n",
       "      <td>pt,at,us</td>\n",
       "      <td>NEIC PDE</td>\n",
       "      <td>us</td>\n",
       "      <td>pt20262001</td>\n",
       "      <td>Mww</td>\n",
       "      <td>6.9</td>\n",
       "      <td>us</td>\n",
       "      <td>CENTRAL MID-ATLANTIC RIDGE</td>\n",
       "    </tr>\n",
       "    <tr>\n",
       "      <th>2</th>\n",
       "      <td>11311667</td>\n",
       "      <td>2020-09-17T03:00:17Z</td>\n",
       "      <td>7.8718</td>\n",
       "      <td>-37.0393</td>\n",
       "      <td>10.0</td>\n",
       "      <td>us</td>\n",
       "      <td>NEIC PDE</td>\n",
       "      <td>us</td>\n",
       "      <td>us7000bp8n</td>\n",
       "      <td>Mww</td>\n",
       "      <td>5.7</td>\n",
       "      <td>us</td>\n",
       "      <td>CENTRAL MID-ATLANTIC RIDGE</td>\n",
       "    </tr>\n",
       "    <tr>\n",
       "      <th>3</th>\n",
       "      <td>11313223</td>\n",
       "      <td>2020-09-14T13:23:04Z</td>\n",
       "      <td>0.8312</td>\n",
       "      <td>-30.1649</td>\n",
       "      <td>10.0</td>\n",
       "      <td>us</td>\n",
       "      <td>NEIC PDE</td>\n",
       "      <td>us</td>\n",
       "      <td>us7000bpsw</td>\n",
       "      <td>mb</td>\n",
       "      <td>4.5</td>\n",
       "      <td>us</td>\n",
       "      <td>CENTRAL MID-ATLANTIC RIDGE</td>\n",
       "    </tr>\n",
       "    <tr>\n",
       "      <th>4</th>\n",
       "      <td>11312149</td>\n",
       "      <td>2020-09-11T23:54:12Z</td>\n",
       "      <td>-15.5620</td>\n",
       "      <td>-13.2277</td>\n",
       "      <td>10.0</td>\n",
       "      <td>us</td>\n",
       "      <td>NEIC PDE</td>\n",
       "      <td>us</td>\n",
       "      <td>us7000bnzj</td>\n",
       "      <td>mb</td>\n",
       "      <td>5.0</td>\n",
       "      <td>us</td>\n",
       "      <td>SOUTHERN MID-ATLANTIC RIDGE</td>\n",
       "    </tr>\n",
       "  </tbody>\n",
       "</table>\n",
       "</div>"
      ],
      "text/plain": [
       "         ID                  Data      Lat     Long  Depth      Rede  \\\n",
       "0  11315954  2020-09-19T20:58:16Z  -0.0807 -18.0865   10.0        us   \n",
       "1  11312466  2020-09-18T21:43:58Z   0.9167 -26.8408   10.0  pt,at,us   \n",
       "2  11311667  2020-09-17T03:00:17Z   7.8718 -37.0393   10.0        us   \n",
       "3  11313223  2020-09-14T13:23:04Z   0.8312 -30.1649   10.0        us   \n",
       "4  11312149  2020-09-11T23:54:12Z -15.5620 -13.2277   10.0        us   \n",
       "\n",
       "         NP Local_analysis    Local_ID TipoMagnitude  MagnitudeValue  No  \\\n",
       "0  NEIC PDE             us  us6000c0ig            mb             4.6  us   \n",
       "1  NEIC PDE             us  pt20262001           Mww             6.9  us   \n",
       "2  NEIC PDE             us  us7000bp8n           Mww             5.7  us   \n",
       "3  NEIC PDE             us  us7000bpsw            mb             4.5  us   \n",
       "4  NEIC PDE             us  us7000bnzj            mb             5.0  us   \n",
       "\n",
       "                         Local  \n",
       "0   CENTRAL MID-ATLANTIC RIDGE  \n",
       "1   CENTRAL MID-ATLANTIC RIDGE  \n",
       "2   CENTRAL MID-ATLANTIC RIDGE  \n",
       "3   CENTRAL MID-ATLANTIC RIDGE  \n",
       "4  SOUTHERN MID-ATLANTIC RIDGE  "
      ]
     },
     "execution_count": 21,
     "metadata": {},
     "output_type": "execute_result"
    }
   ],
   "source": [
    "df.head()"
   ]
  },
  {
   "cell_type": "code",
   "execution_count": 22,
   "id": "24f885d7",
   "metadata": {},
   "outputs": [
    {
     "data": {
      "text/html": [
       "<div>\n",
       "<style scoped>\n",
       "    .dataframe tbody tr th:only-of-type {\n",
       "        vertical-align: middle;\n",
       "    }\n",
       "\n",
       "    .dataframe tbody tr th {\n",
       "        vertical-align: top;\n",
       "    }\n",
       "\n",
       "    .dataframe thead th {\n",
       "        text-align: right;\n",
       "    }\n",
       "</style>\n",
       "<table border=\"1\" class=\"dataframe\">\n",
       "  <thead>\n",
       "    <tr style=\"text-align: right;\">\n",
       "      <th></th>\n",
       "      <th>ID</th>\n",
       "      <th>Data</th>\n",
       "      <th>Lat</th>\n",
       "      <th>Long</th>\n",
       "      <th>Depth</th>\n",
       "      <th>Rede</th>\n",
       "      <th>NP</th>\n",
       "      <th>Local_analysis</th>\n",
       "      <th>Local_ID</th>\n",
       "      <th>TipoMagnitude</th>\n",
       "      <th>MagnitudeValue</th>\n",
       "      <th>No</th>\n",
       "      <th>Local</th>\n",
       "    </tr>\n",
       "  </thead>\n",
       "  <tbody>\n",
       "    <tr>\n",
       "      <th>5217</th>\n",
       "      <td>12471</td>\n",
       "      <td>1970-02-09T00:02:38Z</td>\n",
       "      <td>4.84</td>\n",
       "      <td>-32.74</td>\n",
       "      <td>33.0</td>\n",
       "      <td>ISC</td>\n",
       "      <td>ISC</td>\n",
       "      <td>ISC</td>\n",
       "      <td>1765779</td>\n",
       "      <td>mb</td>\n",
       "      <td>4.6</td>\n",
       "      <td>ISC</td>\n",
       "      <td>CENTRAL MID-ATLANTIC RIDGE</td>\n",
       "    </tr>\n",
       "    <tr>\n",
       "      <th>5218</th>\n",
       "      <td>11809</td>\n",
       "      <td>1970-02-07T19:03:58Z</td>\n",
       "      <td>1.00</td>\n",
       "      <td>-28.20</td>\n",
       "      <td>33.0</td>\n",
       "      <td>ISC</td>\n",
       "      <td>ISC</td>\n",
       "      <td>ISC</td>\n",
       "      <td>1765690</td>\n",
       "      <td>mb</td>\n",
       "      <td>4.8</td>\n",
       "      <td>ISC</td>\n",
       "      <td>CENTRAL MID-ATLANTIC RIDGE</td>\n",
       "    </tr>\n",
       "    <tr>\n",
       "      <th>5219</th>\n",
       "      <td>22560</td>\n",
       "      <td>1970-01-31T18:55:05Z</td>\n",
       "      <td>NaN</td>\n",
       "      <td>NaN</td>\n",
       "      <td>20.0</td>\n",
       "      <td>ISC</td>\n",
       "      <td>ISC</td>\n",
       "      <td>ISC</td>\n",
       "      <td>1768753</td>\n",
       "      <td>mb</td>\n",
       "      <td>4.7</td>\n",
       "      <td>ISC</td>\n",
       "      <td>ASCENSION ISLAND REGION</td>\n",
       "    </tr>\n",
       "    <tr>\n",
       "      <th>5220</th>\n",
       "      <td>18106</td>\n",
       "      <td>1970-01-22T02:05:29Z</td>\n",
       "      <td>NaN</td>\n",
       "      <td>NaN</td>\n",
       "      <td>33.0</td>\n",
       "      <td>ISC</td>\n",
       "      <td>ISC</td>\n",
       "      <td>ISC</td>\n",
       "      <td>1768277</td>\n",
       "      <td>mb</td>\n",
       "      <td>4.4</td>\n",
       "      <td>ISC</td>\n",
       "      <td>NORTH ATLANTIC OCEAN</td>\n",
       "    </tr>\n",
       "    <tr>\n",
       "      <th>5221</th>\n",
       "      <td>10803</td>\n",
       "      <td>1970-01-04T17:37:21Z</td>\n",
       "      <td>-8.40</td>\n",
       "      <td>NaN</td>\n",
       "      <td>NaN</td>\n",
       "      <td>LAO</td>\n",
       "      <td>ISC</td>\n",
       "      <td>ISC</td>\n",
       "      <td>1767191</td>\n",
       "      <td>NaN</td>\n",
       "      <td>4.8</td>\n",
       "      <td>LAO</td>\n",
       "      <td>SOUTH ATLANTIC OCEAN</td>\n",
       "    </tr>\n",
       "  </tbody>\n",
       "</table>\n",
       "</div>"
      ],
      "text/plain": [
       "         ID                  Data   Lat   Long  Depth Rede   NP  \\\n",
       "5217  12471  1970-02-09T00:02:38Z  4.84 -32.74   33.0  ISC  ISC   \n",
       "5218  11809  1970-02-07T19:03:58Z  1.00 -28.20   33.0  ISC  ISC   \n",
       "5219  22560  1970-01-31T18:55:05Z   NaN    NaN   20.0  ISC  ISC   \n",
       "5220  18106  1970-01-22T02:05:29Z   NaN    NaN   33.0  ISC  ISC   \n",
       "5221  10803  1970-01-04T17:37:21Z -8.40    NaN    NaN  LAO  ISC   \n",
       "\n",
       "     Local_analysis Local_ID TipoMagnitude  MagnitudeValue   No  \\\n",
       "5217            ISC  1765779            mb             4.6  ISC   \n",
       "5218            ISC  1765690            mb             4.8  ISC   \n",
       "5219            ISC  1768753            mb             4.7  ISC   \n",
       "5220            ISC  1768277            mb             4.4  ISC   \n",
       "5221            ISC  1767191           NaN             4.8  LAO   \n",
       "\n",
       "                           Local  \n",
       "5217  CENTRAL MID-ATLANTIC RIDGE  \n",
       "5218  CENTRAL MID-ATLANTIC RIDGE  \n",
       "5219     ASCENSION ISLAND REGION  \n",
       "5220        NORTH ATLANTIC OCEAN  \n",
       "5221        SOUTH ATLANTIC OCEAN  "
      ]
     },
     "execution_count": 22,
     "metadata": {},
     "output_type": "execute_result"
    }
   ],
   "source": [
    "df.tail()"
   ]
  },
  {
   "cell_type": "markdown",
   "id": "4a994c42",
   "metadata": {},
   "source": [
    "Média das colunas numéricas"
   ]
  },
  {
   "cell_type": "code",
   "execution_count": 23,
   "id": "d2248fd7",
   "metadata": {},
   "outputs": [
    {
     "data": {
      "text/plain": [
       "ID                3.602108e+06\n",
       "Lat              -3.424915e+00\n",
       "Long             -2.172679e+01\n",
       "Depth             1.068191e+01\n",
       "MagnitudeValue    4.503868e+00\n",
       "dtype: float64"
      ]
     },
     "execution_count": 23,
     "metadata": {},
     "output_type": "execute_result"
    }
   ],
   "source": [
    "df.mean()"
   ]
  },
  {
   "cell_type": "markdown",
   "id": "e20662ae",
   "metadata": {},
   "source": [
    "Correlação "
   ]
  },
  {
   "cell_type": "code",
   "execution_count": 24,
   "id": "b70e288f",
   "metadata": {
    "scrolled": true
   },
   "outputs": [
    {
     "data": {
      "text/html": [
       "<div>\n",
       "<style scoped>\n",
       "    .dataframe tbody tr th:only-of-type {\n",
       "        vertical-align: middle;\n",
       "    }\n",
       "\n",
       "    .dataframe tbody tr th {\n",
       "        vertical-align: top;\n",
       "    }\n",
       "\n",
       "    .dataframe thead th {\n",
       "        text-align: right;\n",
       "    }\n",
       "</style>\n",
       "<table border=\"1\" class=\"dataframe\">\n",
       "  <thead>\n",
       "    <tr style=\"text-align: right;\">\n",
       "      <th></th>\n",
       "      <th>ID</th>\n",
       "      <th>Lat</th>\n",
       "      <th>Long</th>\n",
       "      <th>Depth</th>\n",
       "      <th>MagnitudeValue</th>\n",
       "    </tr>\n",
       "  </thead>\n",
       "  <tbody>\n",
       "    <tr>\n",
       "      <th>ID</th>\n",
       "      <td>1.000000</td>\n",
       "      <td>-0.084711</td>\n",
       "      <td>-0.025740</td>\n",
       "      <td>-0.254941</td>\n",
       "      <td>-0.112806</td>\n",
       "    </tr>\n",
       "    <tr>\n",
       "      <th>Lat</th>\n",
       "      <td>-0.084711</td>\n",
       "      <td>1.000000</td>\n",
       "      <td>-0.627365</td>\n",
       "      <td>-0.002367</td>\n",
       "      <td>-0.053296</td>\n",
       "    </tr>\n",
       "    <tr>\n",
       "      <th>Long</th>\n",
       "      <td>-0.025740</td>\n",
       "      <td>-0.627365</td>\n",
       "      <td>1.000000</td>\n",
       "      <td>0.015064</td>\n",
       "      <td>0.044641</td>\n",
       "    </tr>\n",
       "    <tr>\n",
       "      <th>Depth</th>\n",
       "      <td>-0.254941</td>\n",
       "      <td>-0.002367</td>\n",
       "      <td>0.015064</td>\n",
       "      <td>1.000000</td>\n",
       "      <td>0.306609</td>\n",
       "    </tr>\n",
       "    <tr>\n",
       "      <th>MagnitudeValue</th>\n",
       "      <td>-0.112806</td>\n",
       "      <td>-0.053296</td>\n",
       "      <td>0.044641</td>\n",
       "      <td>0.306609</td>\n",
       "      <td>1.000000</td>\n",
       "    </tr>\n",
       "  </tbody>\n",
       "</table>\n",
       "</div>"
      ],
      "text/plain": [
       "                      ID       Lat      Long     Depth  MagnitudeValue\n",
       "ID              1.000000 -0.084711 -0.025740 -0.254941       -0.112806\n",
       "Lat            -0.084711  1.000000 -0.627365 -0.002367       -0.053296\n",
       "Long           -0.025740 -0.627365  1.000000  0.015064        0.044641\n",
       "Depth          -0.254941 -0.002367  0.015064  1.000000        0.306609\n",
       "MagnitudeValue -0.112806 -0.053296  0.044641  0.306609        1.000000"
      ]
     },
     "execution_count": 24,
     "metadata": {},
     "output_type": "execute_result"
    }
   ],
   "source": [
    "df.corr()"
   ]
  },
  {
   "cell_type": "markdown",
   "id": "6d1d3ee2",
   "metadata": {},
   "source": [
    "Número de valores não nulos em cada coluna"
   ]
  },
  {
   "cell_type": "code",
   "execution_count": 25,
   "id": "4afe7c33",
   "metadata": {
    "scrolled": true
   },
   "outputs": [
    {
     "data": {
      "text/plain": [
       "ID                5222\n",
       "Data              5222\n",
       "Lat               5220\n",
       "Long              5219\n",
       "Depth             5195\n",
       "Rede              5222\n",
       "NP                5222\n",
       "Local_analysis    5168\n",
       "Local_ID          5222\n",
       "TipoMagnitude     5168\n",
       "MagnitudeValue    5222\n",
       "No                5222\n",
       "Local             5222\n",
       "dtype: int64"
      ]
     },
     "execution_count": 25,
     "metadata": {},
     "output_type": "execute_result"
    }
   ],
   "source": [
    "df.count()"
   ]
  },
  {
   "cell_type": "markdown",
   "id": "0b7a24a6",
   "metadata": {},
   "source": [
    "Valor máximo de cada coluna"
   ]
  },
  {
   "cell_type": "code",
   "execution_count": 26,
   "id": "d2dc4130",
   "metadata": {
    "scrolled": true
   },
   "outputs": [
    {
     "data": {
      "text/plain": [
       "ID                                   11315954\n",
       "Data                     2020-09-19T20:58:16Z\n",
       "Lat                                     12.15\n",
       "Long                                   4.5938\n",
       "Depth                                   163.0\n",
       "Rede                                       uu\n",
       "NP                                   NEIC PDE\n",
       "Local_ID                           uu60403532\n",
       "MagnitudeValue                            7.1\n",
       "No                                    us,gcmt\n",
       "Local             SOUTHERN MID-ATLANTIC RIDGE\n",
       "dtype: object"
      ]
     },
     "execution_count": 26,
     "metadata": {},
     "output_type": "execute_result"
    }
   ],
   "source": [
    "df.max()"
   ]
  },
  {
   "cell_type": "markdown",
   "id": "43737e1c",
   "metadata": {},
   "source": [
    "Valor mínimo de cada coluna"
   ]
  },
  {
   "cell_type": "code",
   "execution_count": 27,
   "id": "eb4859e4",
   "metadata": {},
   "outputs": [
    {
     "data": {
      "text/plain": [
       "ID                                   7682\n",
       "Data                 1970-01-04T17:37:21Z\n",
       "Lat                              -29.9762\n",
       "Long                                -42.2\n",
       "Depth                               -1.86\n",
       "Rede                                  BUL\n",
       "NP                                    ISC\n",
       "Local_ID                         00011767\n",
       "MagnitudeValue                        0.0\n",
       "No                                    BUL\n",
       "Local             ASCENSION ISLAND REGION\n",
       "dtype: object"
      ]
     },
     "execution_count": 27,
     "metadata": {},
     "output_type": "execute_result"
    }
   ],
   "source": [
    "df.min()"
   ]
  },
  {
   "cell_type": "markdown",
   "id": "d59a7d7f",
   "metadata": {},
   "source": [
    "Mediana das colunas numéricas"
   ]
  },
  {
   "cell_type": "code",
   "execution_count": 28,
   "id": "757502ce",
   "metadata": {
    "scrolled": true
   },
   "outputs": [
    {
     "data": {
      "text/plain": [
       "ID                2.867389e+06\n",
       "Lat              -7.233000e-01\n",
       "Long             -1.673600e+01\n",
       "Depth             1.000000e+01\n",
       "MagnitudeValue    4.600000e+00\n",
       "dtype: float64"
      ]
     },
     "execution_count": 28,
     "metadata": {},
     "output_type": "execute_result"
    }
   ],
   "source": [
    "df.median()"
   ]
  },
  {
   "cell_type": "markdown",
   "id": "cc14a8df",
   "metadata": {},
   "source": [
    "Desvio padrão das colunas numéricas"
   ]
  },
  {
   "cell_type": "code",
   "execution_count": 29,
   "id": "781d6fb7",
   "metadata": {
    "scrolled": true
   },
   "outputs": [
    {
     "data": {
      "text/plain": [
       "ID                3.356155e+06\n",
       "Lat               9.763482e+00\n",
       "Long              1.018907e+01\n",
       "Depth             9.079532e+00\n",
       "MagnitudeValue    6.629671e-01\n",
       "dtype: float64"
      ]
     },
     "execution_count": 29,
     "metadata": {},
     "output_type": "execute_result"
    }
   ],
   "source": [
    "df.std()"
   ]
  },
  {
   "cell_type": "markdown",
   "id": "24566cdf",
   "metadata": {},
   "source": [
    "*************\n",
    "\n",
    "Vamos separar determinadas colunas do DataFrame. Queremos usar só algumas que nos interessam: \n",
    "\n",
    "* latitude \n",
    "* longitude\n",
    "* profundidade\n",
    "* magnitude"
   ]
  },
  {
   "cell_type": "code",
   "execution_count": 116,
   "id": "b42dfb63",
   "metadata": {},
   "outputs": [
    {
     "data": {
      "text/html": [
       "<div>\n",
       "<style scoped>\n",
       "    .dataframe tbody tr th:only-of-type {\n",
       "        vertical-align: middle;\n",
       "    }\n",
       "\n",
       "    .dataframe tbody tr th {\n",
       "        vertical-align: top;\n",
       "    }\n",
       "\n",
       "    .dataframe thead th {\n",
       "        text-align: right;\n",
       "    }\n",
       "</style>\n",
       "<table border=\"1\" class=\"dataframe\">\n",
       "  <thead>\n",
       "    <tr style=\"text-align: right;\">\n",
       "      <th></th>\n",
       "      <th>Lat</th>\n",
       "      <th>Long</th>\n",
       "      <th>Depth</th>\n",
       "      <th>MagnitudeValue</th>\n",
       "    </tr>\n",
       "  </thead>\n",
       "  <tbody>\n",
       "    <tr>\n",
       "      <th>0</th>\n",
       "      <td>-0.0807</td>\n",
       "      <td>-18.0865</td>\n",
       "      <td>10.0</td>\n",
       "      <td>4.6</td>\n",
       "    </tr>\n",
       "    <tr>\n",
       "      <th>1</th>\n",
       "      <td>0.9167</td>\n",
       "      <td>-26.8408</td>\n",
       "      <td>10.0</td>\n",
       "      <td>6.9</td>\n",
       "    </tr>\n",
       "    <tr>\n",
       "      <th>2</th>\n",
       "      <td>7.8718</td>\n",
       "      <td>-37.0393</td>\n",
       "      <td>10.0</td>\n",
       "      <td>5.7</td>\n",
       "    </tr>\n",
       "    <tr>\n",
       "      <th>3</th>\n",
       "      <td>0.8312</td>\n",
       "      <td>-30.1649</td>\n",
       "      <td>10.0</td>\n",
       "      <td>4.5</td>\n",
       "    </tr>\n",
       "    <tr>\n",
       "      <th>4</th>\n",
       "      <td>-15.5620</td>\n",
       "      <td>-13.2277</td>\n",
       "      <td>10.0</td>\n",
       "      <td>5.0</td>\n",
       "    </tr>\n",
       "  </tbody>\n",
       "</table>\n",
       "</div>"
      ],
      "text/plain": [
       "       Lat     Long  Depth  MagnitudeValue\n",
       "0  -0.0807 -18.0865   10.0             4.6\n",
       "1   0.9167 -26.8408   10.0             6.9\n",
       "2   7.8718 -37.0393   10.0             5.7\n",
       "3   0.8312 -30.1649   10.0             4.5\n",
       "4 -15.5620 -13.2277   10.0             5.0"
      ]
     },
     "execution_count": 116,
     "metadata": {},
     "output_type": "execute_result"
    }
   ],
   "source": [
    "df_interesse = df[[\"Lat\", \"Long\", \"Depth\", \"MagnitudeValue\"]].copy()\n",
    "\n",
    "df_interesse.head()"
   ]
  },
  {
   "cell_type": "code",
   "execution_count": 117,
   "id": "f3fb9d0a",
   "metadata": {},
   "outputs": [
    {
     "data": {
      "text/html": [
       "<div>\n",
       "<style scoped>\n",
       "    .dataframe tbody tr th:only-of-type {\n",
       "        vertical-align: middle;\n",
       "    }\n",
       "\n",
       "    .dataframe tbody tr th {\n",
       "        vertical-align: top;\n",
       "    }\n",
       "\n",
       "    .dataframe thead th {\n",
       "        text-align: right;\n",
       "    }\n",
       "</style>\n",
       "<table border=\"1\" class=\"dataframe\">\n",
       "  <thead>\n",
       "    <tr style=\"text-align: right;\">\n",
       "      <th></th>\n",
       "      <th>Lat</th>\n",
       "      <th>Long</th>\n",
       "      <th>Depth</th>\n",
       "      <th>MagnitudeValue</th>\n",
       "    </tr>\n",
       "  </thead>\n",
       "  <tbody>\n",
       "    <tr>\n",
       "      <th>5217</th>\n",
       "      <td>4.84</td>\n",
       "      <td>-32.74</td>\n",
       "      <td>33.0</td>\n",
       "      <td>4.6</td>\n",
       "    </tr>\n",
       "    <tr>\n",
       "      <th>5218</th>\n",
       "      <td>1.00</td>\n",
       "      <td>-28.20</td>\n",
       "      <td>33.0</td>\n",
       "      <td>4.8</td>\n",
       "    </tr>\n",
       "    <tr>\n",
       "      <th>5219</th>\n",
       "      <td>NaN</td>\n",
       "      <td>NaN</td>\n",
       "      <td>20.0</td>\n",
       "      <td>4.7</td>\n",
       "    </tr>\n",
       "    <tr>\n",
       "      <th>5220</th>\n",
       "      <td>NaN</td>\n",
       "      <td>NaN</td>\n",
       "      <td>33.0</td>\n",
       "      <td>4.4</td>\n",
       "    </tr>\n",
       "    <tr>\n",
       "      <th>5221</th>\n",
       "      <td>-8.40</td>\n",
       "      <td>NaN</td>\n",
       "      <td>NaN</td>\n",
       "      <td>4.8</td>\n",
       "    </tr>\n",
       "  </tbody>\n",
       "</table>\n",
       "</div>"
      ],
      "text/plain": [
       "       Lat   Long  Depth  MagnitudeValue\n",
       "5217  4.84 -32.74   33.0             4.6\n",
       "5218  1.00 -28.20   33.0             4.8\n",
       "5219   NaN    NaN   20.0             4.7\n",
       "5220   NaN    NaN   33.0             4.4\n",
       "5221 -8.40    NaN    NaN             4.8"
      ]
     },
     "execution_count": 117,
     "metadata": {},
     "output_type": "execute_result"
    }
   ],
   "source": [
    "df_interesse.tail()"
   ]
  },
  {
   "cell_type": "markdown",
   "id": "a6fba501",
   "metadata": {},
   "source": [
    "Temos alguns valores nulos em nossa tabela (NaN). Vamos ter que limpar nossos dados antes de continuar. Primeiro, vamos checar quantos são os valores vazios:"
   ]
  },
  {
   "cell_type": "code",
   "execution_count": 118,
   "id": "42b7a8f0",
   "metadata": {},
   "outputs": [
    {
     "data": {
      "text/plain": [
       "Lat                2\n",
       "Long               3\n",
       "Depth             27\n",
       "MagnitudeValue     0\n",
       "dtype: int64"
      ]
     },
     "execution_count": 118,
     "metadata": {},
     "output_type": "execute_result"
    }
   ],
   "source": [
    "df_interesse.isnull().sum()"
   ]
  },
  {
   "cell_type": "markdown",
   "id": "14b88b57",
   "metadata": {},
   "source": [
    "Limpando nossos dados, ou seja, vamos excluir as linhas da nossa tabela que tenham valores nulos"
   ]
  },
  {
   "cell_type": "code",
   "execution_count": 119,
   "id": "aab09318",
   "metadata": {},
   "outputs": [],
   "source": [
    "df_interesse = df_interesse.dropna() "
   ]
  },
  {
   "cell_type": "code",
   "execution_count": 120,
   "id": "52b8f536",
   "metadata": {},
   "outputs": [
    {
     "data": {
      "text/html": [
       "<div>\n",
       "<style scoped>\n",
       "    .dataframe tbody tr th:only-of-type {\n",
       "        vertical-align: middle;\n",
       "    }\n",
       "\n",
       "    .dataframe tbody tr th {\n",
       "        vertical-align: top;\n",
       "    }\n",
       "\n",
       "    .dataframe thead th {\n",
       "        text-align: right;\n",
       "    }\n",
       "</style>\n",
       "<table border=\"1\" class=\"dataframe\">\n",
       "  <thead>\n",
       "    <tr style=\"text-align: right;\">\n",
       "      <th></th>\n",
       "      <th>Lat</th>\n",
       "      <th>Long</th>\n",
       "      <th>Depth</th>\n",
       "      <th>MagnitudeValue</th>\n",
       "    </tr>\n",
       "  </thead>\n",
       "  <tbody>\n",
       "    <tr>\n",
       "      <th>5214</th>\n",
       "      <td>-23.67</td>\n",
       "      <td>-13.34</td>\n",
       "      <td>33.0</td>\n",
       "      <td>4.6</td>\n",
       "    </tr>\n",
       "    <tr>\n",
       "      <th>5215</th>\n",
       "      <td>11.50</td>\n",
       "      <td>-38.60</td>\n",
       "      <td>33.0</td>\n",
       "      <td>4.4</td>\n",
       "    </tr>\n",
       "    <tr>\n",
       "      <th>5216</th>\n",
       "      <td>11.60</td>\n",
       "      <td>-38.80</td>\n",
       "      <td>33.0</td>\n",
       "      <td>4.3</td>\n",
       "    </tr>\n",
       "    <tr>\n",
       "      <th>5217</th>\n",
       "      <td>4.84</td>\n",
       "      <td>-32.74</td>\n",
       "      <td>33.0</td>\n",
       "      <td>4.6</td>\n",
       "    </tr>\n",
       "    <tr>\n",
       "      <th>5218</th>\n",
       "      <td>1.00</td>\n",
       "      <td>-28.20</td>\n",
       "      <td>33.0</td>\n",
       "      <td>4.8</td>\n",
       "    </tr>\n",
       "  </tbody>\n",
       "</table>\n",
       "</div>"
      ],
      "text/plain": [
       "        Lat   Long  Depth  MagnitudeValue\n",
       "5214 -23.67 -13.34   33.0             4.6\n",
       "5215  11.50 -38.60   33.0             4.4\n",
       "5216  11.60 -38.80   33.0             4.3\n",
       "5217   4.84 -32.74   33.0             4.6\n",
       "5218   1.00 -28.20   33.0             4.8"
      ]
     },
     "execution_count": 120,
     "metadata": {},
     "output_type": "execute_result"
    }
   ],
   "source": [
    "df_interesse.tail()"
   ]
  },
  {
   "cell_type": "code",
   "execution_count": 121,
   "id": "4c073eb9",
   "metadata": {},
   "outputs": [
    {
     "data": {
      "text/plain": [
       "Lat               0\n",
       "Long              0\n",
       "Depth             0\n",
       "MagnitudeValue    0\n",
       "dtype: int64"
      ]
     },
     "execution_count": 121,
     "metadata": {},
     "output_type": "execute_result"
    }
   ],
   "source": [
    "df_interesse.isnull().sum()"
   ]
  },
  {
   "cell_type": "markdown",
   "id": "2bb21dd7",
   "metadata": {},
   "source": [
    "Podemos separar as colunas do nosso DataFrame em diferentes Séries"
   ]
  },
  {
   "cell_type": "code",
   "execution_count": 122,
   "id": "d9d3f2c3",
   "metadata": {},
   "outputs": [],
   "source": [
    "lat = df_interesse[\"Lat\"]\n",
    "lon = df_interesse[\"Long\"]\n",
    "depth = df_interesse[\"Depth\"]\n",
    "mag = df_interesse[\"MagnitudeValue\"]"
   ]
  },
  {
   "cell_type": "markdown",
   "id": "c8dedc3f",
   "metadata": {},
   "source": [
    "Vamos plotar um gráfico usando a biblioteca matplotlib"
   ]
  },
  {
   "cell_type": "code",
   "execution_count": 123,
   "id": "0bcffbb9",
   "metadata": {},
   "outputs": [
    {
     "data": {
      "image/png": "[encoded data removed]",
      "text/plain": [
       "<Figure size 720x720 with 1 Axes>"
      ]
     },
     "metadata": {
      "needs_background": "light"
     },
     "output_type": "display_data"
    }
   ],
   "source": [
    "import matplotlib.pyplot as plt\n",
    "\n",
    "fig = plt.figure(figsize=(10,10))\n",
    "ax1 = fig.add_subplot(projection='3d')\n",
    "ax1.invert_zaxis()\n",
    "ax1.set_xlabel('Latitude (°)')\n",
    "ax1.set_ylabel('Longitude (°)')\n",
    "ax1.set_zlabel('Depth (km)')\n",
    "ax1.set_zlim(150,0)\n",
    "ax1.set_title(\"Events Hypocenters\")\n",
    "\n",
    "ax1.scatter(df_interesse[\"Lat\"], df_interesse[\"Long\"], df_interesse[\"Depth\"], c=df_interesse[\"Depth\"], cmap=\"hot\")\n",
    "\n",
    "ax1.view_init(20)\n",
    "plt.show()"
   ]
  },
  {
   "cell_type": "markdown",
   "id": "41f37c18",
   "metadata": {},
   "source": [
    "Ou então, podemos usar o próprio Pandas para uma visualização rápida dos nossos dados"
   ]
  },
  {
   "cell_type": "code",
   "execution_count": 124,
   "id": "ec94b812",
   "metadata": {
    "scrolled": false
   },
   "outputs": [
    {
     "data": {
      "text/plain": [
       "<AxesSubplot:>"
      ]
     },
     "execution_count": 124,
     "metadata": {},
     "output_type": "execute_result"
    },
    {
     "data": {
      "image/png": "[encoded data removed]",
      "text/plain": [
       "<Figure size 1080x360 with 1 Axes>"
      ]
     },
     "metadata": {
      "needs_background": "light"
     },
     "output_type": "display_data"
    }
   ],
   "source": [
    "df_interesse['MagnitudeValue'].value_counts().plot(kind='bar',figsize=(15,5))"
   ]
  },
  {
   "cell_type": "code",
   "execution_count": 125,
   "id": "27050943",
   "metadata": {},
   "outputs": [
    {
     "data": {
      "text/plain": [
       "<AxesSubplot:xlabel='Lat', ylabel='Long'>"
      ]
     },
     "execution_count": 125,
     "metadata": {},
     "output_type": "execute_result"
    },
    {
     "data": {
      "image/png": "[encoded data removed]",
      "text/plain": [
       "<Figure size 432x288 with 1 Axes>"
      ]
     },
     "metadata": {
      "needs_background": "light"
     },
     "output_type": "display_data"
    }
   ],
   "source": [
    "df_interesse.plot(x=\"Lat\",y=\"Long\", kind=\"scatter\")"
   ]
  },
  {
   "cell_type": "code",
   "execution_count": null,
   "id": "720c5cff",
   "metadata": {},
   "outputs": [],
   "source": []
  }
 ],
 "metadata": {
  "kernelspec": {
   "display_name": "Python 3",
   "language": "python",
   "name": "python3"
  },
  "language_info": {
   "codemirror_mode": {
    "name": "ipython",
    "version": 3
   },
   "file_extension": ".py",
   "mimetype": "text/x-python",
   "name": "python",
   "nbconvert_exporter": "python",
   "pygments_lexer": "ipython3",
   "version": "3.8.8"
  }
 },
 "nbformat": 4,
 "nbformat_minor": 5
}
